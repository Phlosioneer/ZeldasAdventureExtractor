{
 "cells": [
  {
   "cell_type": "code",
   "execution_count": 26,
   "metadata": {},
   "outputs": [
    {
     "data": {
      "application/vnd.jupyter.widget-view+json": {
       "model_id": "f16078b9fc8a4a498feb0368a18cbdf3",
       "version_major": 2,
       "version_minor": 0
      },
      "text/plain": [
       "parsing file:   0%|          | 0/1 [00:00<?, ?it/s]"
      ]
     },
     "metadata": {},
     "output_type": "display_data"
    },
    {
     "data": {
      "application/vnd.jupyter.widget-view+json": {
       "model_id": "1aa2097551c640ad8079570610203069",
       "version_major": 2,
       "version_minor": 0
      },
      "text/plain": [
       "building sectors:   0%|          | 0/220024 [00:00<?, ?it/s]"
      ]
     },
     "metadata": {},
     "output_type": "display_data"
    },
    {
     "data": {
      "application/vnd.jupyter.widget-view+json": {
       "model_id": "09493ec7a26144e2a2e1665a983c4906",
       "version_major": 2,
       "version_minor": 0
      },
      "text/plain": [
       "building files:   0%|          | 0/12 [00:00<?, ?it/s]"
      ]
     },
     "metadata": {},
     "output_type": "display_data"
    },
    {
     "data": {
      "application/vnd.jupyter.widget-view+json": {
       "model_id": "7dde45cfbb7d4e9d864155af684035af",
       "version_major": 2,
       "version_minor": 0
      },
      "text/plain": [
       "searching files for modules:   0%|          | 0/12 [00:00<?, ?it/s]"
      ]
     },
     "metadata": {},
     "output_type": "display_data"
    },
    {
     "data": {
      "application/vnd.jupyter.widget-view+json": {
       "model_id": "51a57b1e751441c3b2c0bf9a005063a9",
       "version_major": 2,
       "version_minor": 0
      },
      "text/plain": [
       "searching cdi_zelda for modules:   0%|          | 0/65 [00:00<?, ?it/s]"
      ]
     },
     "metadata": {},
     "output_type": "display_data"
    },
    {
     "data": {
      "application/vnd.jupyter.widget-view+json": {
       "model_id": "4e081a279f154d14a3bf09e352dec1ba",
       "version_major": 2,
       "version_minor": 0
      },
      "text/plain": [
       "  0%|          | 0/24 [00:00<?, ?it/s]"
      ]
     },
     "metadata": {},
     "output_type": "display_data"
    }
   ],
   "source": [
    "import importlib\n",
    "import sys\n",
    "import os\n",
    "import PIL\n",
    "import json\n",
    "\n",
    "try:\n",
    "    wave\n",
    "except NameError:\n",
    "    import wave\n",
    "from tqdm.notebook import tqdm\n",
    "\n",
    "import za_lib\n",
    "importlib.reload(sys.modules[\"za_images\"])\n",
    "importlib.reload(sys.modules[\"cdi_images\"])\n",
    "importlib.reload(za_lib)\n",
    "importlib.reload(sys.modules[\"za_scripts\"])\n",
    "importlib.reload(sys.modules[\"cdi_filesystem\"])\n",
    "importlib.reload(sys.modules[\"cdi_audio\"])\n",
    "\n",
    "from struct_stream import StructStream\n",
    "\n",
    "game = za_lib.Game(\"Zeldas Adventure (Europe).dat\")"
   ]
  },
  {
   "cell_type": "code",
   "execution_count": 27,
   "metadata": {},
   "outputs": [
    {
     "data": {
      "application/vnd.jupyter.widget-view+json": {
       "model_id": "8dab3bc5eb30479eb9e5e6477a219a64",
       "version_major": 2,
       "version_minor": 0
      },
      "text/plain": [
       "  0%|          | 0/489 [00:00<?, ?it/s]"
      ]
     },
     "metadata": {},
     "output_type": "display_data"
    },
    {
     "name": "stdout",
     "output_type": "stream",
     "text": [
      "Malformed animation table: expected 148 bytes, found 146\n",
      "\tAbove errors happened for cell o28\n",
      "hasSprites false when sprite is present. Cell: s501\n",
      "hasSprites false when sprite is present. Cell: s501\n"
     ]
    }
   ],
   "source": [
    "game._exportCurioEnemyStats(\"export/curiosities\")"
   ]
  },
  {
   "cell_type": "code",
   "execution_count": 28,
   "metadata": {},
   "outputs": [
    {
     "data": {
      "application/vnd.jupyter.widget-view+json": {
       "model_id": "256991c0ccd645f09eb73392743a14f3",
       "version_major": 2,
       "version_minor": 0
      },
      "text/plain": [
       "  0%|          | 0/489 [00:00<?, ?it/s]"
      ]
     },
     "metadata": {},
     "output_type": "display_data"
    },
    {
     "data": {
      "application/vnd.jupyter.widget-view+json": {
       "model_id": "c8f9a289e3b241da9f7da74bd23ad259",
       "version_major": 2,
       "version_minor": 0
      },
      "text/plain": [
       "  0%|          | 0/489 [00:00<?, ?it/s]"
      ]
     },
     "metadata": {},
     "output_type": "display_data"
    },
    {
     "data": {
      "application/vnd.jupyter.widget-view+json": {
       "model_id": "bda4800c5a3c42caa1c8738030f1e784",
       "version_major": 2,
       "version_minor": 0
      },
      "text/plain": [
       "  0%|          | 0/489 [00:00<?, ?it/s]"
      ]
     },
     "metadata": {},
     "output_type": "display_data"
    },
    {
     "name": "stdout",
     "output_type": "stream",
     "text": [
      "Failed to make metadata images for description 0 on cell s305: No palette data found.\n",
      "Failed to make metadata images for description 0 on cell s306: No palette data found.\n",
      "Failed to make metadata images for description 2 on cell s319: No palette data found.\n",
      "Failed to make metadata images for description 0 on cell s707: No palette data found.\n"
     ]
    },
    {
     "data": {
      "application/vnd.jupyter.widget-view+json": {
       "model_id": "7850a0f52f5f4b3db59289c38f909e97",
       "version_major": 2,
       "version_minor": 0
      },
      "text/plain": [
       "  0%|          | 0/489 [00:00<?, ?it/s]"
      ]
     },
     "metadata": {},
     "output_type": "display_data"
    }
   ],
   "source": [
    "\n",
    "game.export(\"export\")\n",
    "game.exportJustScripts(\"export/scripts\")"
   ]
  },
  {
   "cell_type": "code",
   "execution_count": 6,
   "metadata": {},
   "outputs": [
    {
     "data": {
      "text/plain": [
       "([{'x': 256, 'y': 256, 'command': 'setActorFieldsAndAdvance'},\n",
       "  {'x': 388, 'y': 306, 'command': 'setActorPosition'},\n",
       "  {'x': 256, 'y': 256, 'command': 'savePointerToNextCommand'},\n",
       "  {'x': 256, 'y': 256, 'command': 7},\n",
       "  {'x': 256, 'y': 256, 'command': 8},\n",
       "  {'x': 284, 'y': 296, 'command': 5},\n",
       "  {'x': 256, 'y': 258, 'command': 7},\n",
       "  {'x': 256, 'y': 258, 'command': 8},\n",
       "  {'x': 256, 'y': 260, 'command': 4},\n",
       "  {'x': 256, 'y': 256, 'command': 6},\n",
       "  {'x': 256, 'y': 256, 'command': 9},\n",
       "  {'x': 256, 'y': 264, 'command': 4},\n",
       "  {'x': 256, 'y': 256, 'command': 7},\n",
       "  {'x': 256, 'y': 256, 'command': 8},\n",
       "  {'x': 388, 'y': 336, 'command': 5},\n",
       "  {'x': 472, 'y': 296, 'command': 5},\n",
       "  {'x': 256, 'y': 258, 'command': 7},\n",
       "  {'x': 256, 'y': 258, 'command': 8},\n",
       "  {'x': 256, 'y': 260, 'command': 4},\n",
       "  {'x': 256, 'y': 256, 'command': 6},\n",
       "  {'x': 256, 'y': 256, 'command': 9},\n",
       "  {'x': 256, 'y': 264, 'command': 4},\n",
       "  {'x': 256, 'y': 256, 'command': 7},\n",
       "  {'x': 256, 'y': 256, 'command': 8},\n",
       "  {'x': 388, 'y': 356, 'command': 5},\n",
       "  {'x': 256, 'y': 258, 'command': 7},\n",
       "  {'x': 256, 'y': 258, 'command': 8},\n",
       "  {'x': 256, 'y': 260, 'command': 4},\n",
       "  {'x': 256, 'y': 256, 'command': 6},\n",
       "  {'x': 256, 'y': 256, 'command': 9},\n",
       "  {'x': 256, 'y': 264, 'command': 4},\n",
       "  {'x': 256, 'y': 256, 'command': 7},\n",
       "  {'x': 256, 'y': 256, 'command': 8},\n",
       "  {'x': 260, 'y': 264, 'command': 4},\n",
       "  {'x': 484, 'y': 368, 'command': 5},\n",
       "  {'x': 296, 'y': 368, 'command': 5},\n",
       "  {'x': 388, 'y': 296, 'command': 5},\n",
       "  {'x': 256, 'y': 258, 'command': 7},\n",
       "  {'x': 256, 'y': 258, 'command': 8},\n",
       "  {'x': 256, 'y': 260, 'command': 4},\n",
       "  {'x': 256, 'y': 256, 'command': 6},\n",
       "  {'x': 256, 'y': 256, 'command': 9},\n",
       "  {'x': 256, 'y': 264, 'command': 4},\n",
       "  {'x': 256, 'y': 256, 'command': 7},\n",
       "  {'x': 256, 'y': 256, 'command': 8},\n",
       "  {'x': 260, 'y': 262, 'command': 4},\n",
       "  {'x': 0, 'y': 0, 'command': 0}],\n",
       " [{'x': 128, 'y': 128, 'command': 'setActorFieldsAndAdvance'},\n",
       "  {'x': 128, 'y': 104, 'command': 'setActorMiscDataCoords'},\n",
       "  {'x': 136, 'y': 116, 'command': 'setVectorAsYXCoord'},\n",
       "  {'x': 128, 'y': 128, 'command': 'setActorField0x28ToY'},\n",
       "  {'x': 128, 'y': 128, 'command': 'setActorFieldsAndAdvance'},\n",
       "  {'x': 128, 'y': 104, 'command': 'setActorMiscDataCoords'},\n",
       "  {'x': 120, 'y': 116, 'command': 'setVectorAsYXCoord'},\n",
       "  {'x': 128, 'y': 128, 'command': 'setActorField0x28ToY'},\n",
       "  {'x': 0, 'y': 0, 'command': 0}])"
      ]
     },
     "execution_count": 6,
     "metadata": {},
     "output_type": "execute_result"
    }
   ],
   "source": [
    "from za_filesystem import ResourceTree\n",
    "from typing import List\n",
    "\n",
    "actorDataRaw = game._underFiles.subFiles[\"s121\"].getRecord(4, kind=\"data\")\n",
    "actorDataTree = ResourceTree.parseFromStream(StructStream(actorDataRaw, endianPrefix=\">\"))\n",
    "bossData: List[int] = [s.peek(\"I\") for s in actorDataTree.children[\"kp_init\"].elements]\n",
    "bossWeaponData: List[int] = [s.peek(\"I\") for s in actorDataTree.children[\"wp_cmds\"].elements]\n",
    "\n",
    "for i, entry in enumerate(bossData):\n",
    "    y = (entry & 0xFF) * 2\n",
    "    x = ((entry >> 8) & 0xFF) * 2\n",
    "    command = (entry >> 16) & 0xFFFF\n",
    "    if command == 1:\n",
    "        command = \"setActorFieldsAndAdvance\"\n",
    "    elif command == 2:\n",
    "        command = \"setActorPosition\"\n",
    "    elif command == 3:\n",
    "        command = \"savePointerToNextCommand\"\n",
    "    \n",
    "    bossData[i] = {\"x\": x, \"y\": y, \"command\": command}\n",
    "\n",
    "for i, entry in enumerate(bossWeaponData):\n",
    "    x = (entry >> 8) & 0xFF\n",
    "    y = entry & 0xFF\n",
    "    command = (entry >> 16) & 0xFFFF\n",
    "\n",
    "    if command == 1:\n",
    "        command = \"setActorFieldsAndAdvance\"\n",
    "    elif command == 2:\n",
    "        command = \"setActorMiscDataCoords\"\n",
    "    elif command == 3:\n",
    "        command = \"setVectorAsYXCoord\"\n",
    "    elif command == 4:\n",
    "        command = \"setActorField0x28ToY\"\n",
    "    elif command == 5:\n",
    "        command = \"setHealthToYAndField0x31ToXAsWeirdBool\"\n",
    "    elif command == 6:\n",
    "        command = \"setDescriptionIndexToY\"\n",
    "\n",
    "    bossWeaponData[i] = {\"x\": x, \"y\": y, \"command\": command}\n",
    "\n",
    "\n",
    "bossData, bossWeaponData"
   ]
  },
  {
   "cell_type": "code",
   "execution_count": 406,
   "metadata": {},
   "outputs": [
    {
     "data": {
      "text/plain": [
       "['wp01',\n",
       " 'wp02',\n",
       " 'wp03',\n",
       " 'wp04',\n",
       " 'wp05',\n",
       " 'wp06',\n",
       " 'wp07',\n",
       " 'wp08',\n",
       " 'wp09',\n",
       " 'wp10',\n",
       " 'wp11',\n",
       " 'wp12',\n",
       " 'wp13',\n",
       " 'wp14',\n",
       " 'wp04',\n",
       " 'wp04',\n",
       " 'wp17',\n",
       " 'wp18',\n",
       " 'wp19',\n",
       " 'wp20',\n",
       " 'wp21',\n",
       " 'wp04',\n",
       " 'wp23',\n",
       " 'wp24']"
      ]
     },
     "metadata": {},
     "output_type": "display_data"
    },
    {
     "name": "stdout",
     "output_type": "stream",
     "text": [
      "Wand: damage=0\tbonusDamage(??)=0\n",
      "BowAndArrow: damage=26\tbonusDamage(??)=70\n",
      "Broadsword: damage=30\tbonusDamage(??)=70\n",
      "Hourglass: damage=0\tbonusDamage(??)=0\n",
      "Calm: damage=12\tbonusDamage(??)=70\n",
      "Feather: damage=20\tbonusDamage(??)=70\n",
      "RingsOfFire: damage=34\tbonusDamage(??)=0\n",
      "Firestorm: damage=18\tbonusDamage(??)=0\n",
      "GoldNecklace: damage=16\tbonusDamage(??)=70\n",
      "Hammer: damage=46\tbonusDamage(??)=0\n",
      "JadeAmulet: damage=42\tbonusDamage(??)=0\n",
      "Joust: damage=38\tbonusDamage(??)=70\n",
      "JadeRing: damage=20\tbonusDamage(??)=70\n",
      "Dagger: damage=26\tbonusDamage(??)=70\n",
      "LeatherBook: damage=0\tbonusDamage(??)=0\n",
      "EnergyOrb: damage=0\tbonusDamage(??)=0\n",
      "Noise: damage=30\tbonusDamage(??)=70\n",
      "OpalAmulet: damage=0\tbonusDamage(??)=0\n",
      "Pyros: damage=20\tbonusDamage(??)=0\n",
      "RoarStick: damage=41\tbonusDamage(??)=70\n",
      "ShortAxe: damage=40\tbonusDamage(??)=0\n",
      "Trident: damage=0\tbonusDamage(??)=0\n",
      "TurquoiseRing: damage=40\tbonusDamage(??)=40\n",
      "Boomerang: damage=19\tbonusDamage(??)=20\n"
     ]
    },
    {
     "data": {
      "text/plain": [
       "{'size': Coords(x=28, y=28),\n",
       " 'groupCount': 1,\n",
       " 'maxHealth_maybe': 0,\n",
       " 'useCostOrDefense': 1,\n",
       " 'baseDamageOrPurchasePrice_maybe': 19,\n",
       " 'unk_0x14': 0,\n",
       " 'unk_0x15': 0,\n",
       " 'collisionSamplePoints': [Coords(x=14, y=6), Coords(x=14, y=21)],\n",
       " 'unk_0x24': 0,\n",
       " 'bonusDamage': 20,\n",
       " 'unk_0x2b': 0,\n",
       " 'unk_0x2c': 0,\n",
       " 'unk_0x2a': 0,\n",
       " 'type_maybe': 'Hazzard',\n",
       " 'weakToSpell': 'None',\n",
       " 'interactsWithItem': 'GoldTrumpet',\n",
       " 'groups': None,\n",
       " 'scripts': None,\n",
       " 'unknownFieldFromSpriteTree': None,\n",
       " 'extraUnusedGroups': None,\n",
       " '_cachedHashOfGroups': None,\n",
       " 'commonName': None}"
      ]
     },
     "execution_count": 406,
     "metadata": {},
     "output_type": "execute_result"
    }
   ],
   "source": [
    "# Looking into parsing weapon data\n",
    "\n",
    "invDataRaw = game._mainFile.subFiles[\"invent\"].getRecord(1, \"data\")\n",
    "invDataTree = ResourceTree.parseFromStream(StructStream(invDataRaw, endianPrefix=\">\"))\n",
    "weaponNames = [s.peekNullTermString().decode('ascii') for s in invDataTree.children[\"labels\"].elements]\n",
    "display(weaponNames)\n",
    "\n",
    "# Data Record 0 is weapon info\n",
    "# Data Record 1 is unknown, but probably sprites?\n",
    "# Audio Record 0 is unknown, but probably sound effects?\n",
    "\n",
    "for i, name in enumerate(weaponNames):\n",
    "    commonName = za_lib.SPELL_LOOKUP[i + 1]\n",
    "    weaponDataRaw = game._mainFile.subFiles[name].getRecord(0, \"data\")\n",
    "    weaponDataTree = ResourceTree.parseFromStream(StructStream(weaponDataRaw, endianPrefix=\">\"))\n",
    "    #display(weaponDataTree.children)\n",
    "\n",
    "    weaponDescriptions = [za_lib.ActorDescription(s.copy()) for s in weaponDataTree.children[\"sp_desc\"].elements]\n",
    "    weaponGroups = [za_lib.SpriteGroup(s.copy()) for s in weaponDataTree.children[\"sp_groups\"].elements]\n",
    "    \n",
    "    if len(weaponDescriptions) > 1:\n",
    "        print(commonName + \": Multiple weapon descriptions! Using first one.\")\n",
    "    #display(weaponDescriptions, weaponGroups)\n",
    "    desc = weaponDescriptions[0]\n",
    "    print(\"{}: damage={}\\tbonusDamage(??)={}\".format(commonName, desc.baseDamageOrPurchasePrice_maybe, desc.bonusDamage))\n",
    "\n",
    "weaponDescriptions[0].__dict__"
   ]
  },
  {
   "cell_type": "code",
   "execution_count": 622,
   "metadata": {},
   "outputs": [
    {
     "data": {
      "application/vnd.jupyter.widget-view+json": {
       "model_id": "11461482e69045c5a74446f37953d5cd",
       "version_major": 2,
       "version_minor": 0
      },
      "text/plain": [
       "  0%|          | 0/489 [00:00<?, ?it/s]"
      ]
     },
     "metadata": {},
     "output_type": "display_data"
    },
    {
     "name": "stdout",
     "output_type": "stream",
     "text": [
      "aa15 vector\n",
      "aa15 table\n",
      "ac18 vector\n",
      "ac18 table\n",
      "e7 vector\n",
      "e7 table\n",
      "f26 vector\n",
      "f26 table\n",
      "g11 vector\n",
      "g11 table\n",
      "g9 vector\n",
      "g9 table\n",
      "gl1 vector\n",
      "gl1 table\n",
      "h29 vector\n",
      "h29 table\n",
      "h9 vector\n",
      "h9 table\n",
      "j11 vector\n",
      "j11 table\n",
      "j15 vector\n",
      "j15 table\n",
      "j17 vector\n",
      "j17 table\n",
      "j22 vector\n",
      "j22 table\n",
      "j22a vector\n",
      "j22a table\n",
      "j24 vector\n",
      "j24 table\n",
      "k13 vector\n",
      "k13 table\n",
      "k13a vector\n",
      "k13a table\n",
      "k13b vector\n",
      "k13b table\n",
      "k14 vector\n",
      "k14 table\n"
     ]
    },
    {
     "ename": "KeyboardInterrupt",
     "evalue": "",
     "output_type": "error",
     "traceback": [
      "\u001b[1;31m---------------------------------------------------------------------------\u001b[0m",
      "\u001b[1;31mKeyboardInterrupt\u001b[0m                         Traceback (most recent call last)",
      "Cell \u001b[1;32mIn[622], line 1\u001b[0m\n\u001b[1;32m----> 1\u001b[0m \u001b[39mfor\u001b[39;00m cell \u001b[39min\u001b[39;00m game\u001b[39m.\u001b[39mcells():\n\u001b[0;32m      2\u001b[0m     \u001b[39mif\u001b[39;00m cell\u001b[39m.\u001b[39m_vectorData \u001b[39m!=\u001b[39m \u001b[39mNone\u001b[39;00m:\n\u001b[0;32m      3\u001b[0m         \u001b[39mprint\u001b[39m(cell\u001b[39m.\u001b[39mname, \u001b[39m\"\u001b[39m\u001b[39mvector\u001b[39m\u001b[39m\"\u001b[39m)\n",
      "File \u001b[1;32md:\\myDocuments\\Documents\\Source\\Jupyter\\CDI Extractor\\za_lib.py:263\u001b[0m, in \u001b[0;36mGame.cells\u001b[1;34m(self, duplicates, useTqdm)\u001b[0m\n\u001b[0;32m    261\u001b[0m \u001b[39mif\u001b[39;00m useTqdm:\n\u001b[0;32m    262\u001b[0m     bar\u001b[39m.\u001b[39mdesc \u001b[39m=\u001b[39m name\n\u001b[1;32m--> 263\u001b[0m \u001b[39myield\u001b[39;00m \u001b[39mself\u001b[39;49m\u001b[39m.\u001b[39;49mgetCell(name, \u001b[39mTrue\u001b[39;49;00m)\n\u001b[0;32m    264\u001b[0m \u001b[39mif\u001b[39;00m useTqdm:\n\u001b[0;32m    265\u001b[0m     bar\u001b[39m.\u001b[39mupdate(\u001b[39m1\u001b[39m)\n",
      "File \u001b[1;32md:\\myDocuments\\Documents\\Source\\Jupyter\\CDI Extractor\\za_lib.py:326\u001b[0m, in \u001b[0;36mGame.getCell\u001b[1;34m(self, name, isOverworld, silenceWarning)\u001b[0m\n\u001b[0;32m    323\u001b[0m     \u001b[39mraise\u001b[39;00m \u001b[39mException\u001b[39;00m(\u001b[39m\"\u001b[39m\u001b[39mCell \u001b[39m\u001b[39m{}\u001b[39;00m\u001b[39m does not exist in \u001b[39m\u001b[39m{}\u001b[39;00m\u001b[39m\"\u001b[39m\u001b[39m.\u001b[39mformat(name, worldName))\n\u001b[0;32m    325\u001b[0m \u001b[39mif\u001b[39;00m name \u001b[39mnot\u001b[39;00m \u001b[39min\u001b[39;00m parsed:\n\u001b[1;32m--> 326\u001b[0m     parsed[name] \u001b[39m=\u001b[39m \u001b[39mself\u001b[39;49m\u001b[39m.\u001b[39;49m_parseCell(file\u001b[39m.\u001b[39;49msubFiles[name], name, isOverworld)\n\u001b[0;32m    328\u001b[0m \u001b[39mreturn\u001b[39;00m parsed[name]\n",
      "File \u001b[1;32md:\\myDocuments\\Documents\\Source\\Jupyter\\CDI Extractor\\za_lib.py:371\u001b[0m, in \u001b[0;36mGame._parseCell\u001b[1;34m(self, file, name, isOverworld)\u001b[0m\n\u001b[0;32m    370\u001b[0m \u001b[39mdef\u001b[39;00m \u001b[39m_parseCell\u001b[39m(\u001b[39mself\u001b[39m, file: ResourceFileSystemFolder, name: \u001b[39mstr\u001b[39m, isOverworld: \u001b[39mbool\u001b[39m) \u001b[39m-\u001b[39m\u001b[39m>\u001b[39m \u001b[39m\"\u001b[39m\u001b[39mCell\u001b[39m\u001b[39m\"\u001b[39m:\n\u001b[1;32m--> 371\u001b[0m     ret \u001b[39m=\u001b[39m Cell(file, name, isOverworld)\n\u001b[0;32m    372\u001b[0m     \u001b[39mfor\u001b[39;00m i, desc \u001b[39min\u001b[39;00m \u001b[39menumerate\u001b[39m(ret\u001b[39m.\u001b[39mdescriptions):\n\u001b[0;32m    373\u001b[0m         location \u001b[39m=\u001b[39m ActorDescLocation(isOverworld, name, i)\n",
      "File \u001b[1;32md:\\myDocuments\\Documents\\Source\\Jupyter\\CDI Extractor\\za_lib.py:784\u001b[0m, in \u001b[0;36mCell.__init__\u001b[1;34m(self, subFile, name, isOverworld)\u001b[0m\n\u001b[0;32m    782\u001b[0m \u001b[39mself\u001b[39m\u001b[39m.\u001b[39m_parseSprites(subFile)\n\u001b[0;32m    783\u001b[0m \u001b[39mself\u001b[39m\u001b[39m.\u001b[39m_parseScripts(subFile)\n\u001b[1;32m--> 784\u001b[0m \u001b[39mself\u001b[39;49m\u001b[39m.\u001b[39;49m_parseCollisionData(subFile)\n",
      "File \u001b[1;32md:\\myDocuments\\Documents\\Source\\Jupyter\\CDI Extractor\\za_lib.py:869\u001b[0m, in \u001b[0;36mCell._parseCollisionData\u001b[1;34m(self, subFile)\u001b[0m\n\u001b[0;32m    867\u001b[0m collisionMap \u001b[39m=\u001b[39m subFile\u001b[39m.\u001b[39mgetRecord(\u001b[39m1\u001b[39m, kind\u001b[39m=\u001b[39m\u001b[39m\"\u001b[39m\u001b[39mvideo\u001b[39m\u001b[39m\"\u001b[39m)\n\u001b[0;32m    868\u001b[0m \u001b[39m# The 4 index comes from code.\u001b[39;00m\n\u001b[1;32m--> 869\u001b[0m \u001b[39mself\u001b[39m\u001b[39m.\u001b[39mcollisionImage \u001b[39m=\u001b[39m rl7ToRGB(collisionMap, \u001b[39mself\u001b[39;49m\u001b[39m.\u001b[39;49mrawPalette, emptySpaceColorIndex\u001b[39m=\u001b[39;49m\u001b[39m4\u001b[39;49m)\n",
      "File \u001b[1;32md:\\myDocuments\\Documents\\Source\\Jupyter\\CDI Extractor\\cdi_images.py:136\u001b[0m, in \u001b[0;36mrl7ToRGB\u001b[1;34m(data, palette, transparentColor, emptySpaceColorIndex, forceWidth)\u001b[0m\n\u001b[0;32m    134\u001b[0m     pixels \u001b[39m+\u001b[39m\u001b[39m=\u001b[39m row \n\u001b[0;32m    135\u001b[0m     \u001b[39mfor\u001b[39;00m _ \u001b[39min\u001b[39;00m \u001b[39mrange\u001b[39m(width \u001b[39m-\u001b[39m \u001b[39mlen\u001b[39m(row)):\n\u001b[1;32m--> 136\u001b[0m         pixels \u001b[39m+\u001b[39m\u001b[39m=\u001b[39m emptySpaceColorIndex\u001b[39m.\u001b[39mto_bytes(\u001b[39m1\u001b[39m)\n\u001b[0;32m    137\u001b[0m \u001b[39massert\u001b[39;00m \u001b[39mlen\u001b[39m(pixels) \u001b[39m==\u001b[39m width \u001b[39m*\u001b[39m height\n\u001b[0;32m    139\u001b[0m \u001b[39mif\u001b[39;00m \u001b[39mlen\u001b[39m(pixels) \u001b[39m==\u001b[39m \u001b[39m0\u001b[39m:\n",
      "\u001b[1;31mKeyboardInterrupt\u001b[0m: "
     ]
    }
   ],
   "source": [
    "for cell in game.cells():\n",
    "    if cell._vectorData != None:\n",
    "        print(cell.name, \"vector\")\n",
    "    if cell._tableData != None:\n",
    "        print(cell.name, \"table\")"
   ]
  },
  {
   "cell_type": "code",
   "execution_count": 645,
   "metadata": {},
   "outputs": [
    {
     "name": "stdout",
     "output_type": "stream",
     "text": [
      "Actor 0\n"
     ]
    },
    {
     "data": {
      "text/plain": [
       "{'descIndex': 0,\n",
       " 'spawnCoords': (134, 102),\n",
       " 'health': 60,\n",
       " 'unk_0x24': 0,\n",
       " 'direction': 'UP',\n",
       " 'animationType': 'UnknownType2',\n",
       " 'unk_0x28': 0,\n",
       " 'unk_0x30': 0,\n",
       " 'unk_0x31': 0,\n",
       " 'unk_0x32': 0,\n",
       " 'unk_0x34': 0,\n",
       " 'unk_0x35': 0,\n",
       " 'description': <za_lib.ActorDescription at 0x28528ec4ad0>,\n",
       " 'animation': None}"
      ]
     },
     "metadata": {},
     "output_type": "display_data"
    },
    {
     "name": "stdout",
     "output_type": "stream",
     "text": [
      "Actor 1\n"
     ]
    },
    {
     "data": {
      "text/plain": [
       "{'descIndex': 0,\n",
       " 'spawnCoords': (70, 144),\n",
       " 'health': 60,\n",
       " 'unk_0x24': 0,\n",
       " 'direction': 'UP',\n",
       " 'animationType': 'UnknownType2',\n",
       " 'unk_0x28': 0,\n",
       " 'unk_0x30': 0,\n",
       " 'unk_0x31': 0,\n",
       " 'unk_0x32': 0,\n",
       " 'unk_0x34': 0,\n",
       " 'unk_0x35': 0,\n",
       " 'description': <za_lib.ActorDescription at 0x28528ec4ad0>,\n",
       " 'animation': None}"
      ]
     },
     "metadata": {},
     "output_type": "display_data"
    },
    {
     "name": "stdout",
     "output_type": "stream",
     "text": [
      "Actor 2\n"
     ]
    },
    {
     "data": {
      "text/plain": [
       "{'descIndex': 0,\n",
       " 'spawnCoords': (122, 204),\n",
       " 'health': 60,\n",
       " 'unk_0x24': 0,\n",
       " 'direction': 'UP',\n",
       " 'animationType': 'UnknownType2',\n",
       " 'unk_0x28': 0,\n",
       " 'unk_0x30': 0,\n",
       " 'unk_0x31': 0,\n",
       " 'unk_0x32': 0,\n",
       " 'unk_0x34': 0,\n",
       " 'unk_0x35': 0,\n",
       " 'description': <za_lib.ActorDescription at 0x28528ec4ad0>,\n",
       " 'animation': None}"
      ]
     },
     "metadata": {},
     "output_type": "display_data"
    },
    {
     "name": "stdout",
     "output_type": "stream",
     "text": [
      "Description 0\n"
     ]
    },
    {
     "data": {
      "text/plain": [
       "{'size': (60, 53),\n",
       " 'groupCount': 4,\n",
       " 'maxHealth_maybe': 60,\n",
       " 'useCostOrDefense': 10,\n",
       " 'baseDamageOrPurchasePrice_maybe': 45,\n",
       " 'unk_0x14': 0,\n",
       " 'unk_0x15': 0,\n",
       " 'collisionSamplePoints': [(24, 37), (30, 37)],\n",
       " 'unk_0x24': 4,\n",
       " 'bonusDamage': 5,\n",
       " 'unk_0x2b': 0,\n",
       " 'unk_0x2c': 0,\n",
       " 'unk_0x2a': 1,\n",
       " 'type_maybe': 'EnemyOrSwitch',\n",
       " 'weakToSpell': 'None',\n",
       " 'interactsWithItem': 'NoneOrVialOfAcid',\n",
       " 'groups': [<za_lib.SpriteGroup at 0x28528ec4a90>,\n",
       "  <za_lib.SpriteGroup at 0x284a9f7ab90>,\n",
       "  <za_lib.SpriteGroup at 0x284a9f7a810>,\n",
       "  <za_lib.SpriteGroup at 0x284a9f7a310>],\n",
       " 'scripts': <za_scripts.ScriptSet at 0x28528ec4450>,\n",
       " 'unknownFieldFromSpriteTree': 5491720,\n",
       " 'extraUnusedGroups': None,\n",
       " '_cachedHashOfGroups': None,\n",
       " 'commonName': 'enemy.goriya'}"
      ]
     },
     "metadata": {},
     "output_type": "display_data"
    },
    {
     "name": "stdout",
     "output_type": "stream",
     "text": [
      "Description 1\n"
     ]
    },
    {
     "data": {
      "text/plain": [
       "{'size': (32, 32),\n",
       " 'groupCount': 1,\n",
       " 'maxHealth_maybe': 0,\n",
       " 'useCostOrDefense': 0,\n",
       " 'baseDamageOrPurchasePrice_maybe': 40,\n",
       " 'unk_0x14': 0,\n",
       " 'unk_0x15': 0,\n",
       " 'collisionSamplePoints': [(14, 15), (5, 17)],\n",
       " 'unk_0x24': 0,\n",
       " 'bonusDamage': 0,\n",
       " 'unk_0x2b': 0,\n",
       " 'unk_0x2c': 0,\n",
       " 'unk_0x2a': 48,\n",
       " 'type_maybe': 'Normal',\n",
       " 'weakToSpell': 'None',\n",
       " 'interactsWithItem': 'NoneOrVialOfAcid',\n",
       " 'groups': [<za_lib.SpriteGroup at 0x284a9f7be10>],\n",
       " 'scripts': <za_scripts.ScriptSet at 0x28528ec5590>,\n",
       " 'unknownFieldFromSpriteTree': 5516260,\n",
       " 'extraUnusedGroups': None,\n",
       " '_cachedHashOfGroups': None,\n",
       " 'commonName': 'enemy.goriya.projectile'}"
      ]
     },
     "metadata": {},
     "output_type": "display_data"
    },
    {
     "ename": "AttributeError",
     "evalue": "'NoneType' object has no attribute '__dict__'",
     "output_type": "error",
     "traceback": [
      "\u001b[1;31m---------------------------------------------------------------------------\u001b[0m",
      "\u001b[1;31mAttributeError\u001b[0m                            Traceback (most recent call last)",
      "Cell \u001b[1;32mIn[645], line 3\u001b[0m\n\u001b[0;32m      1\u001b[0m g9 \u001b[39m=\u001b[39m game\u001b[39m.\u001b[39mgetCell(\u001b[39m\"\u001b[39m\u001b[39mi23\u001b[39m\u001b[39m\"\u001b[39m)\n\u001b[0;32m      2\u001b[0m g9\u001b[39m.\u001b[39mshowActors()\n\u001b[1;32m----> 3\u001b[0m g9\u001b[39m.\u001b[39;49mactors[\u001b[39m0\u001b[39;49m]\u001b[39m.\u001b[39;49manimation\u001b[39m.\u001b[39;49m\u001b[39m__dict__\u001b[39;49m\n",
      "\u001b[1;31mAttributeError\u001b[0m: 'NoneType' object has no attribute '__dict__'"
     ]
    }
   ],
   "source": [
    "g9 = game.getCell(\"i23\")\n",
    "g9.showActors()\n",
    "g9.actors[0].animation.__dict__\n"
   ]
  },
  {
   "cell_type": "code",
   "execution_count": 787,
   "metadata": {},
   "outputs": [
    {
     "data": {
      "application/vnd.jupyter.widget-view+json": {
       "model_id": "f739e39df38d49219390577a4fe92653",
       "version_major": 2,
       "version_minor": 0
      },
      "text/plain": [
       "  0%|          | 0/489 [00:00<?, ?it/s]"
      ]
     },
     "metadata": {},
     "output_type": "display_data"
    },
    {
     "name": "stdout",
     "output_type": "stream",
     "text": [
      "null count hypothesis: 372.0 +/- 13.638181696985855\n",
      "0 mean: 0.0 count: 0 +/- 0.0\n",
      "1 mean: 0.0 count: 0 +/- 0.0\n",
      "2 mean: 0.21505376344086022 count: 160 +/- 11.206756794428188\n",
      "3 mean: 0.7432795698924731 count: 553 +/- 11.914965289477866\n",
      "4 mean: 0.39381720430107525 count: 293 +/- 13.32709867674825\n",
      "5 mean: 0.553763440860215 count: 412 +/- 13.559109940021559\n",
      "6 mean: 0.478494623655914 count: 356 +/- 13.625561051879465\n",
      "7 mean: 0.489247311827957 count: 364 +/- 13.635027630871294\n",
      "8 mean: 0.44623655913978494 count: 332 +/- 13.559109940021557\n",
      "9 mean: 0.4368279569892473 count: 325 +/- 13.528891823741317\n",
      "10 mean: 0.28360215053763443 count: 211 +/- 12.294712124997442\n",
      "11 mean: 0.5524193548387096 count: 411 +/- 13.563024926663312\n",
      "12 mean: 0.3602150537634409 count: 268 +/- 13.094363886474127\n",
      "13 mean: 0.4529569892473118 count: 337 +/- 13.577683698763053\n",
      "14 mean: 0.7083333333333334 count: 527 +/- 12.397916491626056\n",
      "15 mean: 0.6545698924731183 count: 487 +/- 12.970137330251804\n",
      "16 mean: 0.6008064516129032 count: 447 +/- 13.358125472124906\n",
      "17 mean: 0.6518817204301075 count: 485 +/- 12.9937433248236\n",
      "18 mean: 0.3481182795698925 count: 259 +/- 12.9937433248236\n",
      "19 mean: 0.0 count: 0 +/- 0.0\n",
      "20 mean: 1.0 count: 744 +/- 0.0\n",
      "21 mean: 0.0 count: 0 +/- 0.0\n",
      "22 mean: 1.0 count: 744 +/- 0.0\n",
      "23 mean: 0.0 count: 0 +/- 0.0\n",
      "24 mean: 0.0 count: 0 +/- 0.0\n",
      "25 mean: 0.0 count: 0 +/- 0.0\n",
      "26 mean: 0.0 count: 0 +/- 0.0\n",
      "27 mean: 0.0 count: 0 +/- 0.0\n",
      "28 mean: 0.0 count: 0 +/- 0.0\n",
      "29 mean: 0.0 count: 0 +/- 0.0\n",
      "30 mean: 0.0 count: 0 +/- 0.0\n",
      "31 mean: 0.0 count: 0 +/- 0.0\n",
      "null count hypothesis: 801.5 +/- 20.0187412191676\n",
      "0 mean: 0.0 count: 0 +/- 0.0\n",
      "1 mean: 0.0 count: 0 +/- 0.0\n",
      "2 mean: 0.495321272613849 count: 794 +/- 20.017864759873966\n",
      "3 mean: 0.4391765439800374 count: 704 +/- 19.870070785934647\n",
      "4 mean: 0.5102932002495322 count: 818 +/- 20.014498799517384\n",
      "5 mean: 0.5009357454772302 count: 803 +/- 20.018706161532624\n",
      "6 mean: 0.5159076731129133 count: 827 +/- 20.00860700637655\n",
      "7 mean: 0.495321272613849 count: 794 +/- 20.017864759873966\n",
      "8 mean: 0.495321272613849 count: 794 +/- 20.017864759873966\n",
      "9 mean: 0.4778540237055521 count: 766 +/- 19.999095425582304\n",
      "10 mean: 0.3505926388022458 count: 562 +/- 19.104107856509234\n",
      "11 mean: 0.5327510917030568 count: 854 +/- 19.975749489958808\n",
      "12 mean: 0.4429195258889582 count: 710 +/- 19.88786405370973\n",
      "13 mean: 0.46912039925140364 count: 752 +/- 19.980527014144155\n",
      "14 mean: 0.6855895196506551 count: 1099 +/- 18.58862872575409\n",
      "15 mean: 0.5901434809731753 count: 946 +/- 19.690715248547377\n",
      "16 mean: 0.5701809107922645 count: 914 +/- 19.820561231606693\n",
      "17 mean: 0.6150966936993137 count: 986 +/- 19.48113600415737\n",
      "18 mean: 0.3849033063006862 count: 617 +/- 19.48113600415737\n",
      "19 mean: 0.0 count: 0 +/- 0.0\n",
      "20 mean: 1.0 count: 1603 +/- 0.0\n",
      "21 mean: 0.0 count: 0 +/- 0.0\n",
      "22 mean: 1.0 count: 1603 +/- 0.0\n",
      "23 mean: 0.0 count: 0 +/- 0.0\n",
      "24 mean: 0.0 count: 0 +/- 0.0\n",
      "25 mean: 0.0 count: 0 +/- 0.0\n",
      "26 mean: 0.0 count: 0 +/- 0.0\n",
      "27 mean: 0.0 count: 0 +/- 0.0\n",
      "28 mean: 0.0 count: 0 +/- 0.0\n",
      "29 mean: 0.0 count: 0 +/- 0.0\n",
      "30 mean: 0.0 count: 0 +/- 0.0\n",
      "31 mean: 0.0 count: 0 +/- 0.0\n"
     ]
    }
   ],
   "source": [
    "import math\n",
    "\n",
    "@dataclass\n",
    "class BitCounter:\n",
    "    counts: List[int]\n",
    "    total: int = 0\n",
    "\n",
    "    def update(self, value: int):\n",
    "        self.total += 1\n",
    "        for i in range(len(self.counts)):\n",
    "            if (1 << i) & value != 0:\n",
    "                self.counts[i] += 1\n",
    "\n",
    "    def ratios(self) -> List[float]:\n",
    "        return [c / self.total for c in self.counts]\n",
    "    \n",
    "    def printStats(self):\n",
    "        averages = self.ratios()\n",
    "        print(\"null count hypothesis:\", self.total / 2, \"+/-\", math.sqrt(self.total*0.5*0.5))\n",
    "        for i in range(len(averages)):\n",
    "            ones = pow(1 - averages[i], 2) * self.counts[i]\n",
    "            zeroes = pow(averages[i], 2) * (self.total - self.counts[i])\n",
    "            stdev = math.sqrt(ones + zeroes)\n",
    "            print(i, \"mean:\", averages[i], \"count:\", self.counts[i], \"+/-\", stdev)\n",
    "\n",
    "uniqueDescValues = set()\n",
    "uniqueGroupValues = set()\n",
    "descCounter = BitCounter([0] * 32)\n",
    "groupCounter = BitCounter([0] * 32)\n",
    "for cell in game.cells(duplicates=True):\n",
    "    for desc in cell.descriptions:\n",
    "        descCounter.update(desc.unknownFieldFromSpriteTree)\n",
    "        uniqueDescValues.add(desc.unknownFieldFromSpriteTree)\n",
    "        for group in desc.groups:\n",
    "            groupCounter.update(group.unknownFieldFromSpriteTree)\n",
    "            uniqueGroupValues.add(group.unknownFieldFromSpriteTree)\n",
    "\n",
    "with open(\"spriteFieldValues_desc.csv\", \"w\") as f:\n",
    "    f.write(\"values\\n\")\n",
    "    for value in uniqueDescValues:\n",
    "        f.write(\"{}\\n\".format(value))\n",
    "with open(\"spriteFieldValues_group.csv\", \"w\") as f:\n",
    "    f.write(\"values\\n\")\n",
    "    for value in uniqueGroupValues:\n",
    "        f.write(\"{}\\n\".format(value))\n",
    "\n",
    "descCounter.printStats()\n",
    "groupCounter.printStats()"
   ]
  },
  {
   "cell_type": "code",
   "execution_count": 758,
   "metadata": {},
   "outputs": [
    {
     "data": {
      "application/vnd.jupyter.widget-view+json": {
       "model_id": "565e56bab332467d9af74fd44e7779ac",
       "version_major": 2,
       "version_minor": 0
      },
      "text/plain": [
       "  0%|          | 0/489 [00:00<?, ?it/s]"
      ]
     },
     "metadata": {},
     "output_type": "display_data"
    },
    {
     "data": {
      "text/plain": [
       "(['item.compass.s1',\n",
       "  'item.compass.s2',\n",
       "  'item.compass.s6',\n",
       "  'item.map.s1',\n",
       "  'item.map.s7',\n",
       "  'item.treasure.alligatorBoots',\n",
       "  'item.treasure.bone',\n",
       "  'item.treasure.deepFriedOctorokLegs',\n",
       "  'item.treasure.diamond',\n",
       "  'item.treasure.feather',\n",
       "  'item.treasure.fishingNet',\n",
       "  'item.treasure.fullWaterBottle',\n",
       "  'item.treasure.goldKey',\n",
       "  'item.treasure.goldenBoots',\n",
       "  'item.treasure.goldenKey',\n",
       "  'item.treasure.ladder',\n",
       "  'item.treasure.magicShield',\n",
       "  'item.treasure.plank',\n",
       "  'item.treasure.redBoots',\n",
       "  'item.treasure.redBow',\n",
       "  'item.treasure.saltcellar',\n",
       "  'item.treasure.vialOfWinds',\n",
       "  'item.weapon.pyros',\n",
       "  'item.weapon.bowAndArrow',\n",
       "  'item.weapon.firestorm',\n",
       "  'item.weapon.goldNecklace',\n",
       "  'item.weapon.hammer',\n",
       "  'item.weapon.hourglass',\n",
       "  'item.weapon.jadeRing',\n",
       "  'item.weapon.joust',\n",
       "  'item.weapon.leatherBook',\n",
       "  'item.weapon.ringsOfFire',\n",
       "  'item.weapon.roarStick',\n",
       "  'item.weapon.trident',\n",
       "  'item.weapon.turquoiseRing',\n",
       "  'item.weapon.wand',\n",
       "  'item.treasure.silverTrumpet'],\n",
       " ['item.treasure.coal',\n",
       "  'item.weapon.boomerang',\n",
       "  'item.treasure.lifePotion',\n",
       "  'item.treasure.candle',\n",
       "  'item.weapon.dagger',\n",
       "  'item.weapon.calm',\n",
       "  'item.treasure.emptyWaterBottle',\n",
       "  'item.weapon.shortAxe',\n",
       "  'item.weapon.jadeAmulet',\n",
       "  'item.treasure.raft',\n",
       "  'item.treasure.harp',\n",
       "  'item.treasure.flute',\n",
       "  'item.treasure.heartContainer',\n",
       "  'item.treasure.lifePotion',\n",
       "  'item.weapon.opalAmulet',\n",
       "  'item.weapon.broadsword',\n",
       "  'item.weapon.noise',\n",
       "  'item.treasure.blackOrb',\n",
       "  'item.treasure.bouquet',\n",
       "  'item.map.s4',\n",
       "  'item.treasure.repellent',\n",
       "  'item.treasure.vialOfAcid',\n",
       "  'item.map.s2',\n",
       "  'item.treasure.blackOrb',\n",
       "  'item.treasure.blackOrb',\n",
       "  'item.treasure.dagger',\n",
       "  'item.treasure.blackKey',\n",
       "  'item.map.s3',\n",
       "  'item.compass.s3',\n",
       "  'item.treasure.rug',\n",
       "  'item.compass.s4',\n",
       "  'item.map.s5',\n",
       "  'item.compass.s5',\n",
       "  'item.treasure.bouquet',\n",
       "  'item.map.s6',\n",
       "  'item.treasure.admitTicket',\n",
       "  'item.treasure.squareTicket',\n",
       "  'item.compass.s7'])"
      ]
     },
     "execution_count": 758,
     "metadata": {},
     "output_type": "execute_result"
    }
   ],
   "source": [
    "def findDescWithBit(bit: int, maxFind = 100000) -> List[za_lib.ActorDescLocation]:\n",
    "    mask = 1 << bit\n",
    "    ret = []\n",
    "    for cell in game.cells(duplicates=True):\n",
    "        for i, desc in enumerate(cell.descriptions):\n",
    "            if mask & desc.unknownFieldFromSpriteTree != 0:\n",
    "                ret.append((\n",
    "                    za_lib.ActorDescLocation(cell.info.isOverworld, cell.name, i),\n",
    "                    desc.commonName\n",
    "                ))\n",
    "                if len(ret) >= maxFind:\n",
    "                    return ret\n",
    "    return ret\n",
    "\n",
    "itemsWithBit2 = [name for _, name in findDescWithBit(2) if \"item.\" in name]\n",
    "itemsWithoutBit2 = []\n",
    "for name in game.spriteNames:\n",
    "    if \"item.\" in name and name not in itemsWithBit2:\n",
    "        itemsWithoutBit2.append(name)\n",
    "itemsWithoutBit2, itemsWithBit2"
   ]
  },
  {
   "cell_type": "code",
   "execution_count": 788,
   "metadata": {},
   "outputs": [
    {
     "data": {
      "application/vnd.jupyter.widget-view+json": {
       "model_id": "a5665a1742d944149b779ea9c12b2055",
       "version_major": 2,
       "version_minor": 0
      },
      "text/plain": [
       "  0%|          | 0/489 [00:00<?, ?it/s]"
      ]
     },
     "metadata": {},
     "output_type": "display_data"
    },
    {
     "name": "stdout",
     "output_type": "stream",
     "text": [
      "f21\n",
      "f25\n",
      "f27\n",
      "f28\n",
      "g25\n",
      "g26\n",
      "g27\n",
      "g28\n",
      "g29\n",
      "g30\n",
      "g31\n",
      "g32\n",
      "g32\n",
      "h20\n",
      "h21\n",
      "h25\n",
      "h26\n",
      "h27\n",
      "h28\n",
      "i21\n",
      "i22\n",
      "i25\n",
      "i26\n",
      "j10\n",
      "j16\n",
      "j20\n",
      "j21\n",
      "j25\n",
      "j26\n",
      "k16\n",
      "k17\n",
      "k18\n",
      "k19\n",
      "l10\n",
      "l16\n",
      "l18\n",
      "l18\n",
      "m10\n",
      "m10\n",
      "m12\n",
      "m14\n",
      "m15\n",
      "m16\n",
      "m17\n",
      "m18\n",
      "n13\n",
      "n14\n",
      "n16\n",
      "n8\n",
      "o12\n",
      "o12\n",
      "o15\n",
      "o17\n",
      "p11\n",
      "p13\n",
      "p13\n",
      "q10\n",
      "q13\n",
      "q8\n",
      "q9\n",
      "r15\n",
      "r15\n",
      "r5\n",
      "r6\n",
      "r7\n",
      "r8\n",
      "s7\n",
      "s7\n",
      "s8\n",
      "t14\n",
      "t14\n",
      "t8\n",
      "u15\n",
      "u15\n",
      "v10\n",
      "v12\n",
      "v12\n",
      "v8\n",
      "v9\n",
      "w12\n",
      "w16\n",
      "x5\n",
      "x6\n",
      "x7\n",
      "x9\n",
      "y3\n",
      "y4\n",
      "z2\n",
      "g32\n",
      "g32\n",
      "s103\n",
      "s104\n",
      "s104\n",
      "s105\n",
      "s105\n",
      "s106\n",
      "s110\n",
      "s111\n",
      "s115\n",
      "s115\n",
      "s116\n",
      "s116\n",
      "s116\n",
      "s119\n"
     ]
    }
   ],
   "source": [
    "for cell in game.cells(duplicates=True):\n",
    "    for desc in cell.descriptions:\n",
    "        if desc.unknownFieldFromSpriteTree < 0x53B000:\n",
    "            print(cell.name)"
   ]
  },
  {
   "cell_type": "code",
   "execution_count": 800,
   "metadata": {},
   "outputs": [
    {
     "data": {
      "text/plain": [
       "{5390632: [<za_lib.ActorDescription at 0x28550bcadd0>,\n",
       "  <za_lib.ActorDescription at 0x28550a91c90>,\n",
       "  <za_lib.ActorDescription at 0x2854f5be950>,\n",
       "  <za_lib.ActorDescription at 0x28556140650>],\n",
       " 5452200: [<za_lib.ActorDescription at 0x28550b7aa50>,\n",
       "  <za_lib.ActorDescription at 0x28550af0490>,\n",
       "  <za_lib.ActorDescription at 0x28550a60710>,\n",
       "  <za_lib.ActorDescription at 0x28565320b50>,\n",
       "  <za_lib.ActorDescription at 0x28550a06210>],\n",
       " 5558408: [<za_lib.ActorDescription at 0x2854fb6d390>],\n",
       " 5451848: [<za_lib.ActorDescription at 0x284936d4e90>,\n",
       "  <za_lib.ActorDescription at 0x28552c5fc50>,\n",
       "  <za_lib.ActorDescription at 0x28483d3c390>,\n",
       "  <za_lib.ActorDescription at 0x28482a66e90>,\n",
       "  <za_lib.ActorDescription at 0x28486222250>]}"
      ]
     },
     "metadata": {},
     "output_type": "display_data"
    },
    {
     "name": "stdout",
     "output_type": "stream",
     "text": [
      "True\n",
      "False\n"
     ]
    }
   ],
   "source": [
    "import json\n",
    "tumblebotSubVariants = {}\n",
    "for desc in game.getActorsByName(\"enemy.tumbleBot\", 0):\n",
    "    field = desc.unknownFieldFromSpriteTree\n",
    "    if field not in tumblebotSubVariants:\n",
    "        tumblebotSubVariants[field] = []\n",
    "    tumblebotSubVariants[field].append(desc)\n",
    "display(tumblebotSubVariants)\n",
    "\n",
    "subVariantJson = {}\n",
    "for name, variants in tumblebotSubVariants.items():\n",
    "    subVariantJson[name] = [\n",
    "        json.dumps(t, default=za_lib._cellSerializer, indent=2)\n",
    "        for t in variants\n",
    "    ]\n",
    "\n",
    "print(subVariantJson[5390632][0] == subVariantJson[5390632][1])\n",
    "print(subVariantJson[5390632][0] == subVariantJson[5452200][0])\n",
    "for name in subVariantJson:\n",
    "    with open(\"subvariant{}.json\".format(name), \"w\") as f:\n",
    "        f.write(subVariantJson[name][0])"
   ]
  },
  {
   "cell_type": "code",
   "execution_count": 11,
   "metadata": {},
   "outputs": [
    {
     "data": {
      "application/vnd.jupyter.widget-view+json": {
       "model_id": "22cc0ddd34e84798864a744b5c6de347",
       "version_major": 2,
       "version_minor": 0
      },
      "text/plain": [
       "  0%|          | 0/489 [00:00<?, ?it/s]"
      ]
     },
     "metadata": {},
     "output_type": "display_data"
    },
    {
     "name": "stdout",
     "output_type": "stream",
     "text": [
      "gl4 enemy.dragonfly Heart\n",
      "gl4 enemy.dragonfly Heart\n"
     ]
    }
   ],
   "source": [
    "for cell in game.cells(duplicates=True):\n",
    "    for desc in cell.descriptions:\n",
    "        if desc.lootDropped not in [\"Nothing\", \"Random\"]:\n",
    "            print(cell.name, desc.commonName, desc.lootDropped)"
   ]
  },
  {
   "cell_type": "code",
   "execution_count": 786,
   "metadata": {},
   "outputs": [
    {
     "name": "stdout",
     "output_type": "stream",
     "text": [
      "52168\n",
      "6120 1504\n",
      "26064 26624 b'\\x00\\x00\\x00\\x01\\x00T1\\x84\\x00\\x00\\x00\\x0c\\x00\\x00\\x00\\x01\\x00T1\\x90\\x00\\x00\\x00\\x0c\\x00\\x00\\x01\\x90\\x01\\x90\\x00\\x01\\xa0\\xbc\\xb9\\xbb\\x01|\\x00\\x01\\xb7\\xb9\\xb5\\xbd\\x01x\\x00\\x02\\xa0\\xa0\\xa0\\xa2\\xa3\\xb4\\xa5\\xa0\\x01x\\x00\\x02\\xa0\\xa0\\xbb\\xae\\xa7\\xa7\\xba\\xa0\\x01x\\x00\\x02\\xa0\\xbb\\xa6\\xa4\\xaf\\xbb\\xa0\\xa0\\x01x\\x00\\x02\\xbd\\xa3\\xa4\\xaf\\xaa\\xa0\\xa0\\xa0\\x01t\\x00\\x03\\xa0\\xa0\\xa0\\xba\\xa3\\xb6\\xaf\\xb4\\xbd\\xa0\\xa0\\xa0\\x01t\\x00\\x02\\xa0\\xa0\\xa0\\xa3\\xb1\\xa4\\xaf\\xac\\x01x\\x00\\x02\\xa0\\xa0\\xbc\\xa6\\xa9\\xa4\\xb4\\xbd\\x01x\\x00\\x02\\xa0\\xa2\\xa3\\xb2\\xb3\\xa7\\xa2\\xa0\\x01x\\x00\\x02\\xbd\\xa3\\xb8\\xa4\\xa7\\xaa\\xa0\\xa0\\x01x\\x00\\x02\\xb8\\xa3\\xb6\\xaf\\xa7\\xbb\\xa0\\xa0\\x01t\\x00\\x03\\xa0\\xa0\\xa0\\xb7\\xb9\\xb0\\xaf\\xa4\\xaa\\xa0\\xa0\\xa0\\x01t\\x00\\x03\\xa0\\xa0\\xbd\\xb9\\xbc\\xb3\\xa4\\xa9\\xa2\\xa0\\xa0\\xa0\\x01t\\x00\\x03\\xa0\\xa0\\xbd\\xb7\\xbe\\xb0\\xa8\\xb1\\xb7\\xa0\\xa0\\xa0\\x01t\\x00\\x03\\xa0\\xa0\\xa0\\xb5\\xb8\\xb3\\xa8\\xb9\\xa3\\xa2\\xa0\\xa0\\x01t\\x00\\x03\\xa0\\xa0\\xa0\\xbd\\xbc\\xb0\\xa7\\xa6\\xa3\\xa3\\xa2\\xa0\\x01x\\x00\\x02\\xbb\\xaa\\xaa\\xb0\\xa3\\xa3\\xa3\\xa2\\x01x\\x00\\x03\\xa0\\xba\\xaa\\xbc\\xb0\\xa6\\xa6\\xa3\\xbb\\xa0\\xa0\\xa0\\x01t\\x00\\x03\\xa0\\xa0\\xba\\xac\\xbc\\xb0\\xa8\\xa3\\xa3\\xbb\\xa0\\xa0\\x01x\\x00\\x02\\xab\\xbe\\xb0\\xa4\\xa3\\xa3\\xbb\\xa0\\x01x\\x00\\x02\\xa0\\xbb\\xb4\\xaf\\xa4\\xa3\\xa6\\xbb\\x01x\\x00\\x03\\xa0\\xa0\\xbd\\xb5\\xb0\\xa8\\xa9\\xa3\\xbb\\xa0\\xa0\\xa0\\x01t\\x00\\x03\\xa0\\xa0\\xa0\\xba\\xaa\\xb0\\xb0\\xa3\\xad\\xbb\\xa0\\xa0\\x01x\\x00\\x02\\xba\\xb5\\xb0\\xb0\\xa6\\xad\\xbb\\xa0\\x01x\\x00\\x02\\xa0\\xa0\\xa2\\xb4\\xb4\\xb0\\xa3\\xbd\\x01x\\x00\\x03\\xa0\\xa0\\xa0\\xbb\\xaa\\xaa\\xb4\\xb8\\xbd\\xa0\\xa0\\xa0\\x01x\\x00\\x02\\xbd\\xaa\\xb7\\xbc\\xb2\\xbd\\xa0\\xa0\\x01x\\x00\\x02\\xa0\\xba\\xa2\\xb5\\xb6\\xb8\\xba\\xa0\\x01x\\x00\\x02\\xa0\\xa0\\xa0\\xbb\\xab\\xab\\xba\\xa0\\x00\\x00\\x00\\x00\\x00\\x00\\x00\\x00\\x00\\x00\\x00\\x00\\x00\\x00\\x00\\x00\\x00\\x00\\x00\\x00\\x00\\x00\\x00\\x00\\x00\\x00\\x00\\x00\\x00\\x00\\x00\\x00\\x00\\x00\\x00\\x00\\x00\\x00\\x00\\x00\\x00\\x00\\x00\\x00\\x00\\x00\\x00\\x00\\x00\\x00\\x00\\x00\\x00\\x00\\x00\\x00\\x00\\x00\\x00\\x00\\x00\\x00\\x00\\x00\\x00\\x00\\x00\\x00\\x00\\x00\\x00\\x00\\x00\\x00\\x00\\x00\\x00\\x00\\x00\\x00\\x00\\x00\\x00\\x00\\x00\\x00\\x00\\x00\\x00\\x00\\x00\\x00\\x00\\x00\\x00\\x00\\x00\\x00\\x00\\x00\\x00\\x00\\x00\\x00\\x00\\x00\\x00\\x00\\x00\\x00\\x00\\x00\\x00\\x00\\x00\\x00\\x00\\x00\\x00\\x00\\x00\\x00\\x00\\x00\\x00\\x00\\x00\\x00\\x00\\x00\\x00\\x00\\x00\\x00\\x00\\x00'\n",
      "0xcbc8\n"
     ]
    }
   ],
   "source": [
    "import za_images\n",
    "spriteData = game._overFiles.subFiles[\"d24\"].getRecord(5, \"data\")\n",
    "spriteDataStream = StructStream(spriteData, endianPrefix=\">\")\n",
    "pointers, rootUnkValue = za_images.unpackPointerArray(spriteDataStream)\n",
    "\n",
    "desc0pointers, desc0UnkValue = za_images.unpackPointerArray(pointers[0])\n",
    "print(desc0UnkValue & 0xFFFC)\n",
    "print(len(pointers[0]), len(pointers[1]))\n",
    "print(spriteDataStream._cursor, len(spriteDataStream._data), spriteDataStream)\n",
    "print(hex(desc0UnkValue & 0xFFFF))\n"
   ]
  },
  {
   "cell_type": "code",
   "execution_count": 29,
   "metadata": {},
   "outputs": [
    {
     "data": {
      "text/plain": [
       "{'animationFrameOrder': [0, 1, 2, 3, 4],\n",
       " 'unk_0x12': 0,\n",
       " 'frameDelay': 2,\n",
       " 'treeHeightSamples': [(25, 56), (41, 57), (60, 54)],\n",
       " 'damageSamplePoints_maybe': [],\n",
       " 'sprites': [<PIL.Image.Image image mode=P size=55x57>,\n",
       "  <PIL.Image.Image image mode=P size=59x55>,\n",
       "  <PIL.Image.Image image mode=P size=59x51>,\n",
       "  <PIL.Image.Image image mode=P size=59x53>,\n",
       "  <PIL.Image.Image image mode=P size=59x53>],\n",
       " 'unusedSprites': [],\n",
       " 'unusedSpritePointer': 5522696,\n",
       " '_cachedHash': None}"
      ]
     },
     "execution_count": 29,
     "metadata": {},
     "output_type": "execute_result"
    }
   ],
   "source": [
    "game.zeldaActor.description.groups[0].__dict__"
   ]
  },
  {
   "cell_type": "code",
   "execution_count": 42,
   "metadata": {},
   "outputs": [
    {
     "data": {
      "application/vnd.jupyter.widget-view+json": {
       "model_id": "af427f2c2eba47c69b5ffac5709b0980",
       "version_major": 2,
       "version_minor": 0
      },
      "text/plain": [
       "  0%|          | 0/489 [00:00<?, ?it/s]"
      ]
     },
     "metadata": {},
     "output_type": "display_data"
    },
    {
     "name": "stdout",
     "output_type": "stream",
     "text": [
      "enemy.agwanda has different values on different cells:\n",
      "\t3 on cells gl5, s525\n",
      "\t0 on cells s516\n",
      "enemy.agwanda.projectile has different values on different cells:\n",
      "\t0 on cells gl5\n",
      "\t60 on cells s525\n",
      "enemy.alligatorMan always has value 0 ['r20', 's16', 't16', 'u14', 'v15', 'v18', 'w15']\n",
      "enemy.alligatorMan.projectile always has value 0 ['s16', 't16']\n",
      "enemy.archer always has value 0 ['s722']\n",
      "enemy.archer.projectile always has value 0 ['s722']\n",
      "enemy.aviana always has value 3 ['gl3', 's321']\n",
      "enemy.aviana.projectile always has value 0 ['gl3', 's321']\n",
      "enemy.axeMan always has value 0 ['x14', 'x15', 'x16', 'y16', 'z15']\n",
      "enemy.bagoBago always has value 0 ['c8', 'o14', 'p13', 'p14', 'q14']\n",
      "enemy.bagoBago.projectile always has value 0 ['c8', 'o14', 'q14']\n",
      "enemy.blob always has value 0 ['r17', 't14', 't15', 'u15']\n",
      "enemy.bolla always has value 0 ['s720']\n",
      "enemy.bolla.projectile always has value 0 ['s720']\n",
      "enemy.cactus always has value 3 ['v7', 'w9', 'x8']\n",
      "enemy.cactus.projectile always has value 0 ['v7', 'w9', 'x8']\n",
      "enemy.crockarock always has value 0 ['a7', 'a8', 'c7', 'c8', 'd7']\n",
      "enemy.crockarock.projectile always has value 0 ['a7', 'a8', 'c7', 'c8', 'd7', 's707']\n",
      "enemy.crystalShard always has value 0 ['s305', 's306', 's319']\n",
      "enemy.deeler always has value 0 ['b8', 'e9', 'f7', 'g29', 'g30', 'g31', 'h10', 'i10', 'j10', 'm10', 'm13', 'n13', 'o12']\n",
      "enemy.dragonfly always has value 0 ['gl4', 's312', 's313', 's317']\n",
      "enemy.floorSpikes always has value 0 ['l8', 'q15', 's5', 's219', 's420', 's607', 's608', 's612', 's614', 's622', 's626']\n",
      "enemy.floorSpikes.blue always has value 0 ['s316', 's318', 's508', 's513']\n",
      "enemy.floorSpikes.white always has value 0 ['s406', 's407', 's421', 's609', 's618', 's722']\n",
      "enemy.ganon always has value 3 ['gl8']\n",
      "enemy.ganon.projectile always has value 0 ['gl8']\n",
      "enemy.ganonFairy always has value 0 ['gl1', 'gl2', 'gl3', 'gl5', 'gl7', 'gl8']\n",
      "enemy.giantSquid always has value 0 ['s20', 's515', 's517', 's523']\n",
      "enemy.gibdo always has value 0 ['s415', 's406', 's407', 's411', 's412']\n",
      "enemy.golem always has value 3 ['m25', 'n18', 'o10', 'o23', 'o9', 'p10', 'p9', 'q17', 'z4', 'z6']\n",
      "enemy.golem.projectile always has value 0 ['m25', 'n18', 'o10', 'o23', 'o9', 'p10', 'p9', 'q17', 'z4', 'z6']\n",
      "enemy.goriya always has value 0 ['d24', 'e21', 'e23', 'e24', 'i23', 'l19', 'm19', 'n17', 'o16', 'w5', 'y6', 'z3', 's215', 's216']\n",
      "enemy.goriya.projectile always has value 0 ['d24', 'e21', 'e23', 'e24', 'i23', 'l19', 'm19', 'n17', 'o16', 'w5', 'y6', 'z3', 's215', 's216']\n",
      "enemy.greenBird always has value 0 ['k28', 'o22', 'o24', 'p21']\n",
      "enemy.guard always has value 0 ['p8', 'z17']\n",
      "enemy.ironKnuckle always has value 0 ['s613', 's615', 's617', 's625', 's626']\n",
      "enemy.jack always has value 0 ['s406', 's407', 's421']\n",
      "enemy.jackaroo always has value 0 ['s202', 's223']\n",
      "enemy.kannis always has value 3 ['s716', 's717', 's718']\n",
      "enemy.keese always has value 0 ['s105', 's106', 's110', 's111', 's115', 's315']\n",
      "enemy.kelpi always has value 0 ['s508', 's513', 's521']\n",
      "enemy.knight.blue always has value 0 ['s620']\n",
      "enemy.knight.green always has value 0 ['s621']\n",
      "enemy.knight.red always has value 0 ['s612']\n",
      "enemy.lanmola always has value 0 ['aa16', 'p16', 'q16', 'q18', 'q19', 'q20', 'v20']\n",
      "enemy.lavaLizard always has value 0 ['s705', 's706']\n",
      "enemy.lavaLizard.projectile always has value 0 ['s705', 's706']\n",
      "enemy.leever always has value 0 ['d8', 'e8', 'h27', 'h28', 'i26', 'k17', 'k18', 'l18', 'm16']\n",
      "enemy.llort has different values on different cells:\n",
      "\t3 on cells gl1, s121\n",
      "\t0 on cells s118\n",
      "enemy.llort.projectile always has value 0 ['gl1', 's121']\n",
      "enemy.loccasin always has value 0 ['s304', 's709', 's711']\n",
      "enemy.lowder always has value 0 ['ac17', 'm18', 'o17', 'v12', 'v8', 'w12', 'x6', 'x7', 'y15', 'y4', 'y6', 'z16', 'z2']\n",
      "enemy.malmord has different values on different cells:\n",
      "\t0 on cells gl4\n",
      "\t3 on cells s422\n",
      "enemy.mimicMole always has value 0 ['l9', 'm8', 'm9']\n",
      "enemy.moblin always has value 0 ['f27', 'g27', 'g28', 'h26', 'j20', 'j21', 'k19', 'l10', 'm10', 'm12', 'n8', 'o12', 'q8', 'r7', 's7', 't8']\n",
      "enemy.moby always has value 0 ['g26', 'j25', 'j26', 'l18', 'm17', 'n16', 'q9', 'r6', 's7', 's8']\n",
      "enemy.molluska has different values on different cells:\n",
      "\t2 on cells o13\n",
      "\t0 on cells y17, s220, s221\n",
      "enemy.molluska.projectile always has value 0 ['o13', 'y17', 's220', 's221']\n",
      "enemy.octorok always has value 0 ['l11', 'm13', 't14', 'u15', 'w16', 's510', 's511']\n",
      "enemy.pasquinade has different values on different cells:\n",
      "\t3 on cells gl2, s224\n",
      "\t0 on cells s217\n",
      "enemy.pasquinade.projectile always has value 0 ['gl2', 's224']\n",
      "enemy.patra always has value 0 ['s214', 's212', 's213', 's308', 's309']\n",
      "enemy.peahat always has value 2 ['e22', 'f20', 'f9', 'g21', 'i20', 'j23', 'k10', 'm11', 'n10', 'n15']\n",
      "enemy.peahat.projectile always has value 0 ['e22', 'f20', 'f9', 'g21', 'i20', 'j23', 'k10', 'm11', 'n10', 'n15']\n",
      "enemy.polsVoice always has value 0 ['s207', 's402', 's404']\n",
      "enemy.purpleBird always has value 0 ['w5', 'w7', 'x5', 'y3', 'y6']\n",
      "enemy.purpleFish always has value 0 ['s522']\n",
      "enemy.romraven always has value 0 ['s418', 's421', 's710', 's715']\n",
      "enemy.rope always has value 0 ['j15']\n",
      "enemy.sardak.blue always has value 0 ['s112']\n",
      "enemy.sardak.red always has value 0 ['s107']\n",
      "enemy.sardak.yellow always has value 0 ['s120']\n",
      "enemy.sardak.yellow.projectile always has value 0 ['s120']\n",
      "enemy.seaMonster always has value 3 ['o28']\n",
      "enemy.spearThrower always has value 0 ['s703', 's704']\n",
      "enemy.spearThrower.projectile always has value 0 ['s703', 's704']\n",
      "enemy.spikedBlock always has value 0 ['s403', 's408', 's414', 's607']\n",
      "enemy.stalfos always has value 0 ['s203', 's218', 's219']\n",
      "enemy.swampZola.blue always has value 3 ['m26', 'n25', 'o25', 'p22', 'v19']\n",
      "enemy.swampZola.blue.projectile always has value 0 ['m26', 'n25', 'o25', 'p22', 'v19']\n",
      "enemy.swampZola.green always has value 3 ['j11', 'l12', 'n12', 'r17', 'r18', 's16', 't15', 't16']\n",
      "enemy.swampZola.green.projectile always has value 0 ['j11', 'l12', 'n12', 'r17', 'r18', 't15']\n",
      "enemy.tektite always has value 0 ['j16', 'k15', 'k16', 'l16', 'm14', 'm15', 'q10', 'r5', 'r8', 's101a', 's7', 'v10', 'v12', 'v9', 'x9', 's103', 's104', 's116', 's118']\n",
      "enemy.tinyFish always has value 0 ['p14']\n",
      "enemy.tornado always has value 0 ['s302', 's303']\n",
      "enemy.tumbleBot always has value 0 ['f21', 'f25', 'g25', 'h20', 'h21', 'h25', 'i21', 'i22', 'i24', 'i25', 'n14', 'o15', 'p11', 'p13', 'q13', 'r15']\n",
      "enemy.tumbleHead always has value 0 ['r15']\n",
      "enemy.tumbleSkull always has value 0 ['s310', 's311']\n",
      "enemy.turtle always has value 0 ['s519', 's520']\n",
      "enemy.ursore always has value 3 ['s628']\n",
      "enemy.vapora has different values on different cells:\n",
      "\t0 on cells s307\n",
      "\t3 on cells s314\n",
      "enemy.vapora.projectile always has value 0 ['s307', 's314']\n",
      "enemy.vire always has value 0 ['s204', 's206']\n",
      "enemy.volta always has value 0 ['s316', 's318', 's320']\n",
      "enemy.wallSpike always has value 0 ['s502', 's503', 's509', 's514']\n",
      "enemy.wallmaster always has value 0 ['s222']\n",
      "enemy.warbane has different values on different cells:\n",
      "\t3 on cells gl7, s723\n",
      "\t0 on cells s712, s721\n",
      "enemy.warbane.projectile always has value 0 ['gl7']\n",
      "enemy.wizzrobe always has value 0 ['s209', 's210', 's211', 's416', 's417', 's419']\n",
      "enemy.wizzrobe.projectile always has value 0 ['s209', 's210', 's211', 's416', 's417', 's419']\n",
      "enemy.zol always has value 0 ['s503', 's506', 's509']\n",
      "env.archery.unknownActor331 always has value 0 ['s606']\n",
      "env.archeryTarget always has value 0 ['s606']\n",
      "env.barrier.s2.bottom always has value 0 ['s224']\n",
      "env.barrier.s2.left always has value 0 ['s207']\n",
      "env.barrier.s2.right always has value 0 ['s214', 's207']\n",
      "env.barrier.s2.top always has value 0 ['s224']\n",
      "env.barrier.s3.bottom always has value 0 ['s321']\n",
      "env.barrier.s3.top always has value 0 ['s321']\n",
      "env.barrier.s4.left always has value 0 ['s422']\n",
      "env.barrier.s4.right always has value 0 ['s422']\n",
      "env.barrier.s5.left always has value 0 ['s525']\n",
      "env.barrier.s5.right always has value 0 ['s525']\n",
      "env.barrier.s6.left always has value 0 ['s628']\n",
      "env.barrier.s6.right always has value 0 ['s628']\n",
      "env.barrier.s7.right always has value 0 ['s723']\n",
      "env.barrier.s7.top always has value 0 ['s723']\n",
      "env.block.blue always has value 0 ['s313', 's316']\n",
      "env.block.white always has value 0 ['s602', 's616']\n",
      "env.bridge.ladder always has value 0 ['s102']\n",
      "env.bridge.movingRock always has value 0 ['s208']\n",
      "env.bridge.plank always has value 0 ['s505']\n",
      "env.bridge.unknownActor111 always has value 0 ['m25a']\n",
      "env.celestialSign always has value 0 ['s122', 's225', 's322', 's423', 's526', 's629', 's724']\n",
      "env.door always has value 0 ['s203']\n",
      "env.ironBars.bottom always has value 0 ['s121']\n",
      "env.ironBars.top always has value 0 ['s121']\n",
      "env.laserWall always has value 0 ['ab17', 's120', 's314']\n",
      "env.passage always has value 0 ['s203']\n",
      "env.pit always has value 0 ['s201']\n",
      "env.raft always has value 0 ['l28', 'm28', 'n28', 'o28', 'p28', 'q28', 's516', 's517', 's519', 's520', 's521', 's522', 's523', 's524']\n",
      "env.redBootsEffect always has value 0 ['s17', 't17', 't18', 'u18']\n",
      "env.rippedTentWall always has value 0 ['s215']\n",
      "env.switch always has value 0 ['m25a', 's403', 's420', 's421', 's607', 's608', 's614']\n",
      "env.switch.floatingSkull always has value 3 ['s319']\n",
      "env.tallFire always has value 0 ['b7', 'j15', 's706', 's711', 's718', 's720']\n",
      "env.teleportPixel always has value 0 ['g32', 'j22', 'k13', 'v16']\n",
      "env.torch always has value 0 ['s115', 's116', 's118', 's119']\n",
      "env.unknownActor254 always has value 0 ['s206']\n",
      "env.unknownActor275 always has value 0 ['s305', 's306', 's319', 's707']\n",
      "env.unknownActor288 always has value 0 ['s319']\n",
      "env.waterSpout always has value 0 ['t18']\n",
      "item.compass.s1 always has value 0 ['s105']\n",
      "item.compass.s2 always has value 0 ['s209']\n",
      "item.compass.s3 always has value 0 ['s308']\n",
      "item.compass.s4 always has value 0 ['s406']\n",
      "item.compass.s5 always has value 0 ['s514']\n",
      "item.compass.s6 always has value 0 ['s603']\n",
      "item.compass.s7 always has value 0 ['s704']\n",
      "item.map.s1 always has value 0 ['s104']\n",
      "item.map.s2 always has value 0 ['s206']\n",
      "item.map.s3 always has value 0 ['s302']\n",
      "item.map.s4 always has value 0 ['u16']\n",
      "item.map.s5 always has value 0 ['s503']\n",
      "item.map.s6 always has value 0 ['s602']\n",
      "item.map.s7 always has value 0 ['s705']\n",
      "item.treasure.admitTicket always has value 0 ['s609']\n",
      "item.treasure.alligatorBoots always has value 0 ['v14']\n",
      "item.treasure.blackKey always has value 0 ['n11', 's220']\n",
      "item.treasure.blackOrb always has value 0 ['s214', 's213']\n",
      "item.treasure.bone always has value 0 ['k13a']\n",
      "item.treasure.bouquet always has value 0 ['s601']\n",
      "item.treasure.candle always has value 0 ['f26', 'j22a', 'k14', 'l13a', 't20']\n",
      "item.treasure.coal always has value 0 ['aa15']\n",
      "item.treasure.dagger always has value 0 ['s215']\n",
      "item.treasure.deepFriedOctorokLegs always has value 0 ['v14']\n",
      "item.treasure.diamond always has value 0 ['l13a']\n",
      "item.treasure.emptyWaterBottle always has value 0 ['j24']\n",
      "item.treasure.feather always has value 0 ['n11']\n",
      "item.treasure.fishingNet always has value 0 ['u20']\n",
      "item.treasure.flute always has value 0 ['l14']\n",
      "item.treasure.fullWaterBottle always has value 0 ['e20']\n",
      "item.treasure.goldKey always has value 0 ['f26', 't20']\n",
      "item.treasure.goldenBoots always has value 0 ['v16']\n",
      "item.treasure.goldenKey always has value 0 ['s204']\n",
      "item.treasure.harp always has value 0 ['j21a', 'l14']\n",
      "item.treasure.heartContainer always has value 0 ['f10', 'm25a', 'o11a', 's18']\n",
      "item.treasure.ladder always has value 0 ['f28']\n",
      "item.treasure.lifePotion always has value 0 ['e7', 'k14', 'p12', 't20']\n",
      "item.treasure.magicShield always has value 0 ['f26']\n",
      "item.treasure.plank always has value 0 ['s504']\n",
      "item.treasure.raft always has value 0 ['k15']\n",
      "item.treasure.redBoots always has value 0 ['s116']\n",
      "item.treasure.redBow always has value 0 ['s601']\n",
      "item.treasure.repellent always has value 0 ['v14']\n",
      "item.treasure.rug always has value 0 ['s314']\n",
      "item.treasure.saltcellar always has value 0 ['s601']\n",
      "item.treasure.silverTrumpet always has value 0 ['k20']\n",
      "item.treasure.squareTicket always has value 0 ['s618']\n",
      "item.treasure.vialOfAcid always has value 0 ['v16a']\n",
      "item.treasure.vialOfWinds always has value 0 ['j24']\n",
      "item.weapon.boomerang always has value 0 ['d24']\n",
      "item.weapon.bowAndArrow always has value 0 ['y14', 's304']\n",
      "item.weapon.broadsword always has value 0 ['p8']\n",
      "item.weapon.calm always has value 0 ['j22a']\n",
      "item.weapon.dagger always has value 0 ['j22a']\n",
      "item.weapon.firestorm always has value 0 ['j22']\n",
      "item.weapon.goldNecklace always has value 0 ['s605']\n",
      "item.weapon.hammer always has value 0 ['s712']\n",
      "item.weapon.hourglass always has value 0 ['p20a']\n",
      "item.weapon.jadeAmulet always has value 0 ['k13b']\n",
      "item.weapon.jadeRing always has value 0 ['s108']\n",
      "item.weapon.joust always has value 0 ['h9']\n",
      "item.weapon.leatherBook always has value 0 ['p15']\n",
      "item.weapon.noise always has value 0 ['r9']\n",
      "item.weapon.opalAmulet always has value 0 ['p15']\n",
      "item.weapon.pyros always has value 0 ['j15']\n",
      "item.weapon.ringsOfFire always has value 0 ['k13b']\n",
      "item.weapon.roarStick always has value 0 ['s608']\n",
      "item.weapon.shortAxe always has value 0 ['k13']\n",
      "item.weapon.trident always has value 0 ['u19']\n",
      "item.weapon.turquoiseRing always has value 0 ['k13b']\n",
      "item.weapon.wand always has value 0 ['h23']\n",
      "npc.archeryMinigameOwner always has value 0 ['s606']\n",
      "npc.beggar always has value 0 ['j22']\n",
      "npc.bitterbeck always has value 0 ['y5']\n",
      "npc.blacksmith always has value 0 ['k14', 'l13a']\n",
      "npc.dressyWoman always has value 0 ['l15']\n",
      "npc.ericAndIan always has value 0 ['l14']\n",
      "npc.faust always has value 0 ['u18']\n",
      "npc.friendlyGoblin always has value 0 ['h9']\n",
      "npc.ghostDog always has value 0 ['s6']\n",
      "npc.ghostFarmer always has value 0 ['j17']\n",
      "npc.glebb always has value 0 ['j24']\n",
      "npc.goblin.unknownActor35 always has value 0 ['g9']\n",
      "npc.greatFairy always has value 0 ['ac18', 'n9', 'w8']\n",
      "npc.greatFairy.sparkles always has value 0 ['ac18', 'n9', 'w8']\n",
      "npc.greenKnightSpectator always has value 0 ['s622']\n",
      "npc.gwynla always has value 0 ['r9']\n",
      "npc.hag always has value 0 ['h29']\n",
      "npc.hag.campfire always has value 0 ['h29']\n",
      "npc.hoodedWoman always has value 0 ['v16']\n",
      "npc.horse always has value 0 ['n11']\n",
      "npc.houseKeeper always has value 0 ['w10']\n",
      "npc.krebb always has value 0 ['j22a']\n",
      "npc.kronThePegleg always has value 0 ['p12']\n",
      "npc.livingFarmer always has value 0 ['l17']\n",
      "npc.lonlyn always has value 0 ['r9']\n",
      "npc.lounger always has value 0 ['k13']\n",
      "npc.madameKriggle always has value 0 ['k13b']\n",
      "npc.merchant.unknownActor168 always has value 0 ['s6']\n",
      "npc.merchant.unknownActor179 always has value 0 ['t20']\n",
      "npc.merchant.unknownActor181 always has value 0 ['u16']\n",
      "npc.merchant.unknownActor189 always has value 0 ['v14']\n",
      "npc.moblinHeadInn.unknownActor58 always has value 0 ['j22a']\n",
      "npc.moblinHeadInn.unknownActor59 always has value 0 ['j22a']\n",
      "npc.mystic always has value 0 ['v11']\n",
      "npc.oldSailor always has value 0 ['p20a']\n",
      "npc.pickpocket always has value 0 ['l27a']\n",
      "npc.purpleStallOwner always has value 0 ['s609']\n",
      "npc.quarryMiner always has value 0 ['aa15']\n",
      "npc.randomCapeGuy always has value 0 ['l13']\n",
      "npc.rebel.left always has value 0 ['z13']\n",
      "npc.rebel.right always has value 0 ['z13']\n",
      "npc.sailor always has value 0 ['l27', 'l28']\n",
      "npc.sailor2 always has value 0 ['l28']\n",
      "npc.shopkeeperAndKnave.unknownActor72 always has value 0 ['k13a']\n",
      "npc.shopkeeperAndKnave.unknownActor73 always has value 0 ['k13a']\n",
      "npc.shopkeeperDog always has value 0 ['k13']\n",
      "npc.shurmak always has value 0 ['p15']\n",
      "npc.sirramBew always has value 0 ['v16a']\n",
      "npc.skaterDude always has value 0 ['g11']\n",
      "npc.sleepingMan always has value 0 ['n17', 'x11']\n",
      "npc.stallOwner2 always has value 0 ['s603']\n",
      "npc.talkingChest always has value 0 ['s108']\n",
      "npc.talkingMushroom always has value 0 ['k20']\n",
      "npc.thabul always has value 0 ['v5']\n",
      "npc.thirstyChild always has value 0 ['s605']\n",
      "npc.tiredTraveler always has value 0 ['j22a']\n",
      "npc.toobar always has value 0 ['l27a']\n",
      "npc.townMerchant always has value 0 ['k14']\n",
      "npc.unknown20 always has value 0 ['e7']\n",
      "npc.unknownActor102 always has value 0 ['l27']\n",
      "npc.unknownActor116 always has value 0 ['m27']\n",
      "npc.unknownActor118 always has value 0 ['n11']\n",
      "npc.unknownActor142 always has value 0 ['p20a']\n",
      "npc.unknownActor148 always has value 0 ['r10']\n",
      "npc.unknownActor149 always has value 0 ['r10']\n",
      "npc.unknownActor166 always has value 0 ['s301', 'z5']\n",
      "npc.unknownActor170 always has value 0 ['s601']\n",
      "npc.unknownActor210 always has value 0 ['z1']\n",
      "npc.unknownActor24 always has value 0 ['f26']\n",
      "npc.unknownActor323 always has value 0 ['s603', 's604', 's619']\n",
      "npc.unknownActor325 always has value 0 ['s603']\n",
      "npc.unknownActor336 always has value 0 ['s611']\n",
      "npc.unknownActor96 always has value 0 ['l14a']\n",
      "npc.waiter always has value 0 ['n11a']\n",
      "npc.whiteSteedLodge.unknownActor122 always has value 0 ['n11a']\n",
      "npc.whiteSteedLodge.unknownActor124 always has value 0 ['n11a']\n",
      "npc.whiteSteedLodge.unknownActor125 always has value 0 ['n11a']\n",
      "npc.wimbich.unknownActor89 always has value 0 ['l13']\n",
      "npc.yalzan always has value 0 ['q15']\n",
      "npc.yellowStallOwner always has value 0 ['s618']\n",
      "npc.yvonne always has value 0 ['l14']\n",
      "npc.zeldaSliding always has value 0 ['s202']\n"
     ]
    }
   ],
   "source": [
    "valuesPerEnity = {}\n",
    "for cell in game.cells(duplicates=True):\n",
    "    for desc in cell.descriptions:\n",
    "        if desc.commonName not in valuesPerEnity:\n",
    "            valuesPerEnity[desc.commonName] = {}\n",
    "        if desc.unk_0x2b not in valuesPerEnity[desc.commonName]:\n",
    "            valuesPerEnity[desc.commonName][desc.unk_0x2b] = []\n",
    "        if cell.name not in valuesPerEnity[desc.commonName][desc.unk_0x2b]:\n",
    "            valuesPerEnity[desc.commonName][desc.unk_0x2b].append(cell.name)\n",
    "        \n",
    "for name in sorted(valuesPerEnity):\n",
    "    values = valuesPerEnity[name]\n",
    "    if len(values) == 1:\n",
    "        print(name, \"always has value\", list(values.keys())[0], list(values.values())[0])\n",
    "    else:\n",
    "        print(name, \"has different values on different cells:\")\n",
    "        for value, cellNames in values.items():\n",
    "            print(\"\\t{}\".format(value), \"on cells\", \", \".join(cellNames))"
   ]
  }
 ],
 "metadata": {
  "kernelspec": {
   "display_name": "Python 3 (ipykernel)",
   "language": "python",
   "name": "python3"
  },
  "language_info": {
   "codemirror_mode": {
    "name": "ipython",
    "version": 3
   },
   "file_extension": ".py",
   "mimetype": "text/x-python",
   "name": "python",
   "nbconvert_exporter": "python",
   "pygments_lexer": "ipython3",
   "version": "3.11.1"
  },
  "vscode": {
   "interpreter": {
    "hash": "eeb96ec3bb005961bcbe2d007da724c52ceaca2be0386be4ccd991b3bdb4d8ba"
   }
  }
 },
 "nbformat": 4,
 "nbformat_minor": 2
}
